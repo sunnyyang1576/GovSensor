{
 "cells": [
  {
   "cell_type": "code",
   "execution_count": 1,
   "metadata": {},
   "outputs": [],
   "source": [
    "import requests as re"
   ]
  },
  {
   "cell_type": "code",
   "execution_count": 2,
   "metadata": {},
   "outputs": [],
   "source": [
    "import pandas as pd\n",
    "import numpy as np"
   ]
  },
  {
   "cell_type": "code",
   "execution_count": 3,
   "metadata": {},
   "outputs": [],
   "source": [
    "from bs4 import BeautifulSoup"
   ]
  },
  {
   "cell_type": "code",
   "execution_count": null,
   "metadata": {},
   "outputs": [],
   "source": []
  },
  {
   "cell_type": "code",
   "execution_count": null,
   "metadata": {},
   "outputs": [],
   "source": []
  },
  {
   "cell_type": "code",
   "execution_count": null,
   "metadata": {},
   "outputs": [],
   "source": []
  },
  {
   "cell_type": "code",
   "execution_count": null,
   "metadata": {},
   "outputs": [],
   "source": [
    "URL = \"http://www.csrc.gov.cn/pub/newsite/zjhxwfb/xwfbh/index_1.html\""
   ]
  },
  {
   "cell_type": "code",
   "execution_count": null,
   "metadata": {},
   "outputs": [],
   "source": [
    "HEADER = {'User-Agent':\"Mozilla/5.0 (Macintosh; Intel Mac OS X 10_14_6) AppleWebKit/537.36 (KHTML, like Gecko) Chrome/85.0.4183.102 Safari/537.36\"}"
   ]
  },
  {
   "cell_type": "code",
   "execution_count": null,
   "metadata": {},
   "outputs": [],
   "source": []
  },
  {
   "cell_type": "code",
   "execution_count": null,
   "metadata": {},
   "outputs": [],
   "source": [
    "response = re.get(URL, HEADER, timeout=10)"
   ]
  },
  {
   "cell_type": "code",
   "execution_count": null,
   "metadata": {},
   "outputs": [],
   "source": [
    "response.encoding = \"utf-8\"\n",
    "text = response.text"
   ]
  },
  {
   "cell_type": "code",
   "execution_count": null,
   "metadata": {},
   "outputs": [],
   "source": [
    "parser = ParserZJH_XWFB(text)"
   ]
  },
  {
   "cell_type": "code",
   "execution_count": null,
   "metadata": {},
   "outputs": [],
   "source": [
    "http://www.csrc.gov.cn/pub/newsite/zjhxwfb/xwdd/202005/t20200529_377143.html"
   ]
  },
  {
   "cell_type": "code",
   "execution_count": null,
   "metadata": {},
   "outputs": [],
   "source": [
    "http://www.csrc.gov.cn/pub/newsite/zjhxwfb/xwdd/202005/t20200524_376839.html"
   ]
  },
  {
   "cell_type": "code",
   "execution_count": null,
   "metadata": {},
   "outputs": [],
   "source": [
    "class ParserZJH_XWFBH(ParserZJH_ZJHYW):\n",
    "    \n",
    "    def __init__(self,json):\n",
    "        \n",
    "        super().__init__(json)\n",
    "        \n",
    "        self.base = \"http://www.csrc.gov.cn/pub/newsite/zjhxwfb/xwfbh\"\n",
    "    \n",
    "    \n",
    "    def single_content_page_parser(self,text):\n",
    "        \n",
    "        pass\n",
    "        "
   ]
  },
  {
   "cell_type": "code",
   "execution_count": null,
   "metadata": {},
   "outputs": [],
   "source": [
    "class ParserZJH_ZCJD(ParserZJH_ZJHYW):\n",
    "    \n",
    "    def __init__(self,json):\n",
    "        \n",
    "        super().__init__(json)\n",
    "        \n",
    "        self.base = \"http://www.csrc.gov.cn/pub/newsite\"\n",
    "    \n",
    "    \n",
    "    def single_element_parser(self,document):\n",
    "        \n",
    "        a = document.find(\"a\")\n",
    "        \n",
    "        link = a.get(\"href\")\n",
    "        \n",
    "        link = self.base + link[5:]\n",
    "        \n",
    "        title = a.string\n",
    "        \n",
    "        time = document.span.string\n",
    "        \n",
    "        return (time,title,link)\n",
    "    \n",
    "    def single_content_page_parser(self,text):\n",
    "        \n",
    "        pass"
   ]
  },
  {
   "cell_type": "code",
   "execution_count": 4,
   "metadata": {},
   "outputs": [
    {
     "ename": "NameError",
     "evalue": "name 'Parser' is not defined",
     "output_type": "error",
     "traceback": [
      "\u001b[0;31m---------------------------------------------------------------------------\u001b[0m",
      "\u001b[0;31mNameError\u001b[0m                                 Traceback (most recent call last)",
      "\u001b[0;32m<ipython-input-4-a532775f7a1b>\u001b[0m in \u001b[0;36m<module>\u001b[0;34m\u001b[0m\n\u001b[0;32m----> 1\u001b[0;31m \u001b[0;32mclass\u001b[0m \u001b[0mParserZJH_ZJHYW\u001b[0m\u001b[0;34m(\u001b[0m\u001b[0mParser\u001b[0m\u001b[0;34m)\u001b[0m\u001b[0;34m:\u001b[0m\u001b[0;34m\u001b[0m\u001b[0;34m\u001b[0m\u001b[0m\n\u001b[0m\u001b[1;32m      2\u001b[0m \u001b[0;34m\u001b[0m\u001b[0m\n\u001b[1;32m      3\u001b[0m     \u001b[0;32mdef\u001b[0m \u001b[0m__init__\u001b[0m\u001b[0;34m(\u001b[0m\u001b[0mself\u001b[0m\u001b[0;34m,\u001b[0m\u001b[0mjson\u001b[0m\u001b[0;34m)\u001b[0m\u001b[0;34m:\u001b[0m\u001b[0;34m\u001b[0m\u001b[0;34m\u001b[0m\u001b[0m\n\u001b[1;32m      4\u001b[0m \u001b[0;34m\u001b[0m\u001b[0m\n\u001b[1;32m      5\u001b[0m         \u001b[0mhtml_file\u001b[0m \u001b[0;34m=\u001b[0m \u001b[0mBeautifulSoup\u001b[0m\u001b[0;34m(\u001b[0m\u001b[0mtext\u001b[0m\u001b[0;34m,\u001b[0m\u001b[0;34m\"html.parser\"\u001b[0m\u001b[0;34m)\u001b[0m\u001b[0;34m\u001b[0m\u001b[0;34m\u001b[0m\u001b[0m\n",
      "\u001b[0;31mNameError\u001b[0m: name 'Parser' is not defined"
     ]
    }
   ],
   "source": [
    "class ParserZJH_ZJHYW(Parser):\n",
    "\n",
    "    def __init__(self,json):\n",
    "        \n",
    "        html_file = BeautifulSoup(text,\"html.parser\")\n",
    "        \n",
    "        super().__init__(html_file)\n",
    "        \n",
    "        self.base = \"http://www.csrc.gov.cn/pub/newsite/zjhxwfb/xwdd\"\n",
    "    \n",
    "    \n",
    "    def single_menu_page_parser(self):\n",
    "        \n",
    "        time_list = []\n",
    "        title_list = []\n",
    "        link_list = []\n",
    "        \n",
    "        document_list = html_file.find(\"div\",{\"class\":\"fl_list\"})\n",
    "        document_list = document_list.find_all(\"li\")\n",
    "        \n",
    "        for document in document_list:\n",
    "            \n",
    "            time,title,link = self.single_element_parser(document)\n",
    "            \n",
    "            time_list.append(time)\n",
    "            title_list.append(title)\n",
    "            link_list.append(link)\n",
    "        \n",
    "        time_list = pd.Series(time_list)\n",
    "        title_list = pd.Series(title_list)\n",
    "        link_list = pd.Series(link_list)\n",
    "        \n",
    "        df = pd.concat([time_list,title_list,link_list],axis=1)\n",
    "        \n",
    "        return df\n",
    "    \n",
    "    \n",
    "    def single_element_parser(self,document):\n",
    "        \n",
    "        a = document.find(\"a\")\n",
    "        \n",
    "        link = a.get(\"href\")\n",
    "        link = self.base + link[1:]\n",
    "        \n",
    "        title = a.string\n",
    "        \n",
    "        time = document.span.string\n",
    "        \n",
    "        return (time,title,link)\n",
    "    \n",
    "    \n",
    "    def single_content_page_parser(self,text):\n",
    "        \n",
    "        html_file = BeautifulSoup(text,\"html.parser\")\n",
    "        content_container = html_file.find(\"div\",{\"class\":\"content\"})\n",
    "        content_list = content_container.find_all(\"p\")\n",
    "        \n",
    "        total_text = \"\"\n",
    "        \n",
    "        for content in content_list:\n",
    "            if content.find(\"span\") is not None:\n",
    "                line_list = content.find_all(\"span\")\n",
    "                line_list = [line.string.strip() for line in line_list if line.string is not None]\n",
    "                \n",
    "                total_line = \"\"\n",
    "                \n",
    "                for line in line_list:\n",
    "                    total_line += line\n",
    "            \n",
    "            else:\n",
    "                \n",
    "                total_line = content.string\n",
    "                \n",
    "                if total_line is not None:\n",
    "                    \n",
    "                    total_line = total_line.strip()\n",
    "                    \n",
    "            if total_line is None:\n",
    "                total_line = \" \"\n",
    "                \n",
    "            total_text += total_line\n",
    "        \n",
    "        return total_text\n",
    "        \n"
   ]
  },
  {
   "cell_type": "code",
   "execution_count": null,
   "metadata": {},
   "outputs": [],
   "source": []
  },
  {
   "cell_type": "code",
   "execution_count": null,
   "metadata": {},
   "outputs": [],
   "source": [
    "URL = \"http://www.csrc.gov.cn/pub/newsite/zjhxwfb/xwdd/201709/t20170901_322898.html\""
   ]
  },
  {
   "cell_type": "code",
   "execution_count": null,
   "metadata": {},
   "outputs": [],
   "source": [
    "response = re.get(URL, HEADER, timeout=10)\n",
    "response.encoding = \"utf-8\"\n",
    "text = response.text"
   ]
  },
  {
   "cell_type": "code",
   "execution_count": null,
   "metadata": {},
   "outputs": [],
   "source": []
  },
  {
   "cell_type": "code",
   "execution_count": null,
   "metadata": {},
   "outputs": [],
   "source": [
    "parser = ParserZJH_XWFB(text)"
   ]
  },
  {
   "cell_type": "code",
   "execution_count": null,
   "metadata": {},
   "outputs": [],
   "source": [
    "parser.single_content_page_parser(text)"
   ]
  },
  {
   "cell_type": "code",
   "execution_count": null,
   "metadata": {},
   "outputs": [],
   "source": []
  },
  {
   "cell_type": "code",
   "execution_count": null,
   "metadata": {},
   "outputs": [],
   "source": []
  },
  {
   "cell_type": "code",
   "execution_count": null,
   "metadata": {},
   "outputs": [],
   "source": [
    "URL = \"http://www.csrc.gov.cn/pub/newsite/ztzl/zcjd/index_1.html\""
   ]
  },
  {
   "cell_type": "code",
   "execution_count": null,
   "metadata": {},
   "outputs": [],
   "source": [
    "response = re.get(URL, HEADER, timeout=10)\n",
    "response.encoding = \"utf-8\"\n",
    "text = response.text"
   ]
  },
  {
   "cell_type": "code",
   "execution_count": null,
   "metadata": {},
   "outputs": [],
   "source": []
  },
  {
   "cell_type": "code",
   "execution_count": null,
   "metadata": {},
   "outputs": [],
   "source": [
    "html_file = BeautifulSoup(text,\"html.parser\")"
   ]
  },
  {
   "cell_type": "code",
   "execution_count": null,
   "metadata": {},
   "outputs": [],
   "source": [
    "document_list = html_file.find(\"div\",{\"class\":\"fl_list\"})\n",
    "document_list = document_list.find_all(\"li\")"
   ]
  },
  {
   "cell_type": "code",
   "execution_count": null,
   "metadata": {},
   "outputs": [],
   "source": [
    "document = document_list[0]"
   ]
  },
  {
   "cell_type": "code",
   "execution_count": null,
   "metadata": {},
   "outputs": [],
   "source": [
    "base = \"http://www.csrc.gov.cn/pub/newsite\""
   ]
  },
  {
   "cell_type": "code",
   "execution_count": null,
   "metadata": {},
   "outputs": [],
   "source": [
    "a = document.find(\"a\")\n",
    "        \n",
    "link = a.get(\"href\")\n",
    "        \n",
    "link = base + link[5:]\n",
    "        \n",
    "title = a.string\n",
    "        \n",
    "time = document.span.string"
   ]
  },
  {
   "cell_type": "code",
   "execution_count": null,
   "metadata": {},
   "outputs": [],
   "source": []
  },
  {
   "cell_type": "code",
   "execution_count": null,
   "metadata": {},
   "outputs": [],
   "source": []
  },
  {
   "cell_type": "code",
   "execution_count": null,
   "metadata": {},
   "outputs": [],
   "source": [
    "parser = ParserZJH_ZCJD(text)"
   ]
  },
  {
   "cell_type": "code",
   "execution_count": null,
   "metadata": {},
   "outputs": [],
   "source": [
    "parser.single_menu_page_parser()"
   ]
  },
  {
   "cell_type": "code",
   "execution_count": null,
   "metadata": {},
   "outputs": [],
   "source": []
  },
  {
   "cell_type": "code",
   "execution_count": null,
   "metadata": {},
   "outputs": [],
   "source": []
  },
  {
   "cell_type": "code",
   "execution_count": null,
   "metadata": {},
   "outputs": [],
   "source": []
  }
 ],
 "metadata": {
  "kernelspec": {
   "display_name": "Python 3",
   "language": "python",
   "name": "python3"
  },
  "language_info": {
   "codemirror_mode": {
    "name": "ipython",
    "version": 3
   },
   "file_extension": ".py",
   "mimetype": "text/x-python",
   "name": "python",
   "nbconvert_exporter": "python",
   "pygments_lexer": "ipython3",
   "version": "3.7.6"
  }
 },
 "nbformat": 4,
 "nbformat_minor": 4
}
