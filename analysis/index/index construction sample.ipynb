{
 "cells": [
  {
   "cell_type": "code",
   "execution_count": null,
   "metadata": {},
   "outputs": [],
   "source": []
  },
  {
   "cell_type": "code",
   "execution_count": 1,
   "metadata": {},
   "outputs": [],
   "source": [
    "import pandas as pd\n",
    "import jieba\n",
    "from collections import Counter\n",
    "from IndexConstruction import IndexConstruction"
   ]
  },
  {
   "cell_type": "code",
   "execution_count": null,
   "metadata": {},
   "outputs": [],
   "source": []
  },
  {
   "cell_type": "code",
   "execution_count": null,
   "metadata": {},
   "outputs": [],
   "source": []
  },
  {
   "cell_type": "code",
   "execution_count": null,
   "metadata": {},
   "outputs": [],
   "source": []
  },
  {
   "cell_type": "code",
   "execution_count": 2,
   "metadata": {},
   "outputs": [],
   "source": [
    "dictionary_directory = \"dictionary/economy.txt\"\n",
    "content_directory = \"content/content.csv\""
   ]
  },
  {
   "cell_type": "code",
   "execution_count": 3,
   "metadata": {},
   "outputs": [],
   "source": [
    "content = pd.read_csv(content_directory)"
   ]
  },
  {
   "cell_type": "code",
   "execution_count": 4,
   "metadata": {},
   "outputs": [],
   "source": [
    "content = content.iloc[:,[1,4]]\n",
    "content.index = pd.to_datetime(content.date)\n",
    "content = content.content"
   ]
  },
  {
   "cell_type": "code",
   "execution_count": null,
   "metadata": {},
   "outputs": [],
   "source": []
  },
  {
   "cell_type": "code",
   "execution_count": 5,
   "metadata": {},
   "outputs": [],
   "source": [
    "index_constuctor = IndexConstruction(dictionary_directory,content)"
   ]
  },
  {
   "cell_type": "code",
   "execution_count": 6,
   "metadata": {},
   "outputs": [
    {
     "data": {
      "text/plain": [
       "['经济', '金融', '股票']"
      ]
     },
     "execution_count": 6,
     "metadata": {},
     "output_type": "execute_result"
    }
   ],
   "source": [
    "index_constuctor.dictionary"
   ]
  },
  {
   "cell_type": "code",
   "execution_count": 7,
   "metadata": {},
   "outputs": [
    {
     "data": {
      "text/plain": [
       "date\n",
       "2020-09-18    中共中央政治局常委、国务院总理李克强日前对森林草原防灭火工作作出重要批示。批示指出：做好森林...\n",
       "2020-09-18    今年年底前实现58项事项异地办理，明年底前实现74项事项异地办理，下一步还要加快实现新生儿入...\n",
       "2020-09-17    国务院总理李克强9月17日主持召开国务院常务会议，确定政务服务“跨省通办”和提升“获得电力”...\n",
       "2020-09-16    国务院总理李克强9月15日晚在人民大会堂出席世界经济论坛全球企业家特别对话会，发表致辞并同企...\n",
       "2020-09-14    李克强总理9月11日在全国深化“放管服”改革优化营商环境电视电话会议上强调，营商环境竞争力就...\n",
       "Name: content, dtype: object"
      ]
     },
     "execution_count": 7,
     "metadata": {},
     "output_type": "execute_result"
    }
   ],
   "source": [
    "index_constuctor.content.head()"
   ]
  },
  {
   "cell_type": "code",
   "execution_count": 8,
   "metadata": {},
   "outputs": [
    {
     "data": {
      "text/plain": [
       "date\n",
       "2016-04-29    音频：\\n央广网北京4月17日消息 据中国之声《新闻和报纸摘要》报道，中共中央政治局常委、国...\n",
       "2016-05-31    国务院总理李克强30日下午在中南海紫光阁会见来华访问的日本外相岸田文雄。李克强表示，发展长期...\n",
       "2016-06-30    2016年5月31日下午，国务院总理李克强在人民大会堂会见来华出席亚洲新闻联盟年会的亚洲国家...\n",
       "2016-07-29    新华社北京7月1日电 国务院总理李克强日前签署第670号国务院令，公布《国务院关于修改〈中华...\n",
       "2016-08-31    7月29日，中共中央政治局常委、国务院总理李克强到国家防汛抗旱总指挥部考察防汛工作并主持召开...\n",
       "Freq: BM, Name: content, dtype: object"
      ]
     },
     "execution_count": 8,
     "metadata": {},
     "output_type": "execute_result"
    }
   ],
   "source": [
    "index_constuctor.aggregate_content(\"BM\").head()"
   ]
  },
  {
   "cell_type": "code",
   "execution_count": 9,
   "metadata": {},
   "outputs": [
    {
     "data": {
      "text/plain": [
       "date\n",
       "2016-04-29    音频：\\n央广网北京4月17日消息 据中国之声《新闻和报纸摘要》报道，中共中央政治局常委、国...\n",
       "2016-05-31    国务院总理李克强30日下午在中南海紫光阁会见来华访问的日本外相岸田文雄。李克强表示，发展长期...\n",
       "2016-06-30    2016年5月31日下午，国务院总理李克强在人民大会堂会见来华出席亚洲新闻联盟年会的亚洲国家...\n",
       "2016-07-29    新华社北京7月1日电 国务院总理李克强日前签署第670号国务院令，公布《国务院关于修改〈中华...\n",
       "2016-08-31    7月29日，中共中央政治局常委、国务院总理李克强到国家防汛抗旱总指挥部考察防汛工作并主持召开...\n",
       "Freq: BM, Name: content, dtype: object"
      ]
     },
     "execution_count": 9,
     "metadata": {},
     "output_type": "execute_result"
    }
   ],
   "source": [
    "index_constuctor.agg_content.head()"
   ]
  },
  {
   "cell_type": "code",
   "execution_count": 10,
   "metadata": {},
   "outputs": [],
   "source": [
    "score = index_constuctor.calculate_score()"
   ]
  },
  {
   "cell_type": "code",
   "execution_count": 11,
   "metadata": {},
   "outputs": [
    {
     "data": {
      "text/plain": [
       "date\n",
       "2016-04-29    100\n",
       "2016-05-31    100\n",
       "2016-06-30    100\n",
       "2016-07-29    100\n",
       "2016-08-31    100\n",
       "2016-09-30    100\n",
       "2016-10-31    100\n",
       "2016-11-30    100\n",
       "2016-12-30    100\n",
       "2017-01-31    100\n",
       "2017-02-28    100\n",
       "2017-03-31    100\n",
       "2017-04-28    100\n",
       "2017-05-31    100\n",
       "2017-06-30    100\n",
       "2017-07-31    100\n",
       "2017-08-31    100\n",
       "2017-09-29    100\n",
       "2017-10-31    100\n",
       "2017-11-30    100\n",
       "2017-12-29    100\n",
       "2018-01-31    100\n",
       "2018-02-28    100\n",
       "2018-03-30    100\n",
       "2018-04-30    100\n",
       "2018-05-31    100\n",
       "2018-06-29    100\n",
       "2018-07-31    100\n",
       "2018-08-31    100\n",
       "2018-09-28    100\n",
       "2018-10-31    100\n",
       "2018-11-30    100\n",
       "2018-12-31    100\n",
       "2019-01-31    100\n",
       "2019-02-28    100\n",
       "2019-03-29    100\n",
       "2019-04-30    100\n",
       "2019-05-31    100\n",
       "2019-06-28    100\n",
       "2019-07-31    100\n",
       "2019-08-30    100\n",
       "2019-09-30    100\n",
       "2019-10-31    100\n",
       "2019-11-29    100\n",
       "2019-12-31    100\n",
       "2020-01-31    100\n",
       "2020-02-28    100\n",
       "2020-03-31    100\n",
       "2020-04-30    100\n",
       "2020-05-29    100\n",
       "2020-06-30    100\n",
       "2020-07-31    100\n",
       "2020-08-31    100\n",
       "2020-09-30    100\n",
       "Freq: BM, Name: content, dtype: int64"
      ]
     },
     "execution_count": 11,
     "metadata": {},
     "output_type": "execute_result"
    }
   ],
   "source": [
    "score"
   ]
  },
  {
   "cell_type": "code",
   "execution_count": null,
   "metadata": {},
   "outputs": [],
   "source": [
    "        "
   ]
  },
  {
   "cell_type": "code",
   "execution_count": null,
   "metadata": {},
   "outputs": [],
   "source": []
  },
  {
   "cell_type": "code",
   "execution_count": null,
   "metadata": {},
   "outputs": [],
   "source": [
    "index_constuctor.agg_content"
   ]
  },
  {
   "cell_type": "code",
   "execution_count": null,
   "metadata": {},
   "outputs": [],
   "source": [
    "index_constuctor.agg_content.apply(func)"
   ]
  },
  {
   "cell_type": "code",
   "execution_count": null,
   "metadata": {},
   "outputs": [],
   "source": []
  },
  {
   "cell_type": "code",
   "execution_count": null,
   "metadata": {},
   "outputs": [],
   "source": []
  },
  {
   "cell_type": "code",
   "execution_count": null,
   "metadata": {},
   "outputs": [],
   "source": []
  },
  {
   "cell_type": "code",
   "execution_count": null,
   "metadata": {},
   "outputs": [],
   "source": []
  },
  {
   "cell_type": "code",
   "execution_count": null,
   "metadata": {},
   "outputs": [],
   "source": []
  },
  {
   "cell_type": "code",
   "execution_count": null,
   "metadata": {},
   "outputs": [],
   "source": []
  },
  {
   "cell_type": "code",
   "execution_count": null,
   "metadata": {},
   "outputs": [],
   "source": []
  },
  {
   "cell_type": "code",
   "execution_count": null,
   "metadata": {},
   "outputs": [],
   "source": []
  },
  {
   "cell_type": "code",
   "execution_count": null,
   "metadata": {},
   "outputs": [],
   "source": []
  },
  {
   "cell_type": "code",
   "execution_count": null,
   "metadata": {},
   "outputs": [],
   "source": []
  },
  {
   "cell_type": "code",
   "execution_count": null,
   "metadata": {},
   "outputs": [],
   "source": []
  }
 ],
 "metadata": {
  "kernelspec": {
   "display_name": "Python 3",
   "language": "python",
   "name": "python3"
  },
  "language_info": {
   "codemirror_mode": {
    "name": "ipython",
    "version": 3
   },
   "file_extension": ".py",
   "mimetype": "text/x-python",
   "name": "python",
   "nbconvert_exporter": "python",
   "pygments_lexer": "ipython3",
   "version": "3.7.6"
  }
 },
 "nbformat": 4,
 "nbformat_minor": 4
}
